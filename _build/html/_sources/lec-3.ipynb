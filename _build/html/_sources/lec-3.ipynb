{
 "cells": [
  {
   "cell_type": "markdown",
   "id": "7661a7df",
   "metadata": {},
   "source": [
    "# Lecture 3: Data Analysis \n",
    "\n",
    ":::{warning}\n",
    "This page is still building. Please be patient for the coming lectures.\n",
    ":::\n",
    "\n",
    "In this lecture, we will learn to build a simple pipeline, by which Python will process your data automatically.\n",
    "\n",
    "The pipeline includes\n",
    "- a module reading data from csv/excel file\n",
    "- a module plotting figure and saving it to disk.\n",
    "- combining them together to a Python script.\n",
    "\n",
    "```{figure} ./images/turtles.jpeg\n",
    "---\n",
    "height: 300px\n",
    "---\n",
    "The \"Four Musketeers\" for Python data analysis: `numPy`, `matplotlib`, \n",
    "`pandas` and `seaborn`.\n",
    "```\n",
    "\n",
    "## Preparation\n",
    "This is an advanced lecture so it is recommended to learn [lecture 1](lec-1.md) and [lecture 2](lec-2.md) if you have no background \n",
    "in Python programming. \n",
    "\n",
    "Pandas is a data analysis and manipulation tools based on Python. To learn Pandas, \n",
    "the best material is the [official cookbook](https://pandas.pydata.org/pandas-docs/version/1.4.0/pandas.pdf) \n",
    "which can be found at the [official website](https://pandas.pydata.org). The [documentation for pandas](https://pandas.pydata.org/docs/) is \n",
    "also helpful for your learning.\n",
    "\n",
    "```{figure} images/pandas-docs.png\n",
    "---\n",
    "height: 300px\n",
    "---\n",
    "A sample entry of pandas docs.\n",
    "```\n",
    "\n",
    "Before start everything, we need to install Pandas as well as some other packages via {guiLabel}`pip`.\n",
    "- `numpy`: You may already have a basic understanding in lecture 2.\n",
    "- `openpyxl`: Pandas requires it to read excel file."
   ]
  },
  {
   "cell_type": "code",
   "execution_count": 1,
   "id": "cbe42569",
   "metadata": {},
   "outputs": [],
   "source": [
    "!pip install -q numpy pandas openpyxl "
   ]
  },
  {
   "cell_type": "markdown",
   "id": "070d8ae5",
   "metadata": {},
   "source": [
    ":::{note} \n",
    "- Here `-q` means quiet installation which can be ignored if you don not understand.\n",
    "- In Jupyter Notebook, command starting with mark `!` is NOT native Python code, \n",
    "but a wrapped shell command, i.e. you can run `pip install numpy` to install `numpy`\n",
    "in your {guiLabel}`Anaconda Prompt Shell`.\n",
    ":::"
   ]
  }
 ],
 "metadata": {
  "jupytext": {
   "cell_metadata_filter": "-all",
   "formats": "md:myst",
   "text_representation": {
    "extension": ".md",
    "format_name": "myst",
    "format_version": 0.13,
    "jupytext_version": "1.11.5"
   }
  },
  "kernelspec": {
   "display_name": "Python 3",
   "language": "python",
   "name": "python3"
  },
  "language_info": {
   "codemirror_mode": {
    "name": "ipython",
    "version": 3
   },
   "file_extension": ".py",
   "mimetype": "text/x-python",
   "name": "python",
   "nbconvert_exporter": "python",
   "pygments_lexer": "ipython3",
   "version": "3.8.11"
  },
  "source_map": [
   15,
   58,
   60
  ]
 },
 "nbformat": 4,
 "nbformat_minor": 5
}