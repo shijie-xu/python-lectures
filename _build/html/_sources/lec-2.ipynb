{
 "cells": [
  {
   "cell_type": "markdown",
   "id": "84bded56",
   "metadata": {},
   "source": [
    "# Lecture 2: Python Basics\n",
    "\n",
    "In this lecture, you will learn\n",
    "- advanced data types\n",
    "- basic data processing packages (coming soon)\n",
    "- basic file read/write operations (coming soon)\n",
    "\n",
    "## Advanced data types\n",
    "\n",
    "The most attractive part of Python is its advanced data types including\n",
    "`list`, `tuple` and `dict`. These are in common use during modern\n",
    "programming languages but Python provides an extremely elegant way to \n",
    "deal with them.\n",
    "\n",
    ":::{tip}\n",
    "Since Python borrowed pretty much grammars from other languages, \n",
    "people who are familiar with **MATLAB/Mathematica** would be also \n",
    "familiar with these part.\n",
    ":::\n",
    "\n",
    "### `list`\n",
    "\n",
    "A `list` in Python is a sequence of objects, which may be integers, string or others. \n",
    "These objects are referenced with its names and seperated with comma in a pair of brackets:\n",
    "```python\n",
    "[obj1, obj2, obj3, ... ]\n",
    "```\n",
    "\n",
    "Here are examples of `list` and you can try define new list by \n",
    "combining the data types you have learned in previous lecture."
   ]
  },
  {
   "cell_type": "code",
   "execution_count": 1,
   "id": "b749bf46",
   "metadata": {},
   "outputs": [],
   "source": [
    "list_of_numbers = [1,2,3,4]\n",
    "list_of_strings = ['hello', 'world']"
   ]
  },
  {
   "cell_type": "markdown",
   "id": "2f268760",
   "metadata": {},
   "source": [
    ":::{note}\n",
    "We usually use same type in a single `list`, but it is also possible\n",
    "to hybrid different types in a `list` like `[1, 'hello', 2, 'world']`.\n",
    ":::\n",
    "\n",
    "`list` of `list` is also useful in some cases:"
   ]
  },
  {
   "cell_type": "code",
   "execution_count": 2,
   "id": "ab2d5c99",
   "metadata": {},
   "outputs": [],
   "source": [
    "list_of_list = [[1,2,3], [4,5,6], [7,8,9]]"
   ]
  },
  {
   "cell_type": "markdown",
   "id": "c4bb37af",
   "metadata": {},
   "source": [
    "A more simple way to define a `list` is **list comprehension**, which\n",
    "has a standard form as below\n",
    "```python\n",
    "[expr for index in collection]\n",
    "```\n",
    "where `expr` is an expression, `index` is a index taken from `collection`. \n",
    "Python will calculate the values of expression for each inedx in the\n",
    "collection and collect them together as a new `list`."
   ]
  },
  {
   "cell_type": "code",
   "execution_count": 3,
   "id": "363ba741",
   "metadata": {},
   "outputs": [
    {
     "name": "stdout",
     "output_type": "stream",
     "text": [
      "[0, 1, 4, 9, 16, 25, 36, 49, 64, 81]\n"
     ]
    }
   ],
   "source": [
    "list_square = [i**2 for i in range(10)]\n",
    "print(list_square)"
   ]
  },
  {
   "cell_type": "markdown",
   "id": "f7239c6a",
   "metadata": {},
   "source": [
    "List comprehension can be used with a condition, which would filter\n",
    "the elements in the `list`."
   ]
  },
  {
   "cell_type": "code",
   "execution_count": 4,
   "id": "d8a892d9",
   "metadata": {},
   "outputs": [
    {
     "name": "stdout",
     "output_type": "stream",
     "text": [
      "[1, 3, 5, 7, 9, 11, 13, 15, 17, 19, 21, 23, 25, 27, 29, 31, 33, 35, 37, 39, 41, 43, 45, 47, 49, 51, 53, 55, 57, 59, 61, 63, 65, 67, 69, 71, 73, 75, 77, 79, 81, 83, 85, 87, 89, 91, 93, 95, 97, 99]\n"
     ]
    }
   ],
   "source": [
    "l = [i for i in range(100) if i % 2 == 1]\n",
    "print(l)"
   ]
  },
  {
   "cell_type": "markdown",
   "id": "b2265070",
   "metadata": {},
   "source": [
    "#### Access elements in `list`\n",
    "`list` is an ordered sequence, which means indices are naturally binded\n",
    "with each element. Therefore, we can access single element in the `list`\n",
    "by the index following the `list` name:"
   ]
  },
  {
   "cell_type": "code",
   "execution_count": 5,
   "id": "efe97226",
   "metadata": {},
   "outputs": [
    {
     "name": "stdout",
     "output_type": "stream",
     "text": [
      "2\n"
     ]
    }
   ],
   "source": [
    "l = [1, 2, 3, 4]\n",
    "print(l[1])"
   ]
  },
  {
   "cell_type": "markdown",
   "id": "7b38375c",
   "metadata": {},
   "source": [
    ":::{important}\n",
    "In Python, the indices start with zero and stop at $n-1$ where $n$ is\n",
    "the length of the `list`. So, `l[0]` is the first element in `l` and \n",
    "`l[1]` is the second element in `l`.\n",
    ":::\n",
    "\n",
    ":::{warning}\n",
    "Please make sure the indices are not out of bound. If you try to access\n",
    "such an element, Python would complain with an error.\n",
    ":::"
   ]
  },
  {
   "cell_type": "code",
   "execution_count": 6,
   "id": "9b0b5a1e",
   "metadata": {},
   "outputs": [
    {
     "ename": "IndexError",
     "evalue": "list index out of range",
     "output_type": "error",
     "traceback": [
      "\u001b[0;31m---------------------------------------------------------------------------\u001b[0m",
      "\u001b[0;31mIndexError\u001b[0m                                Traceback (most recent call last)",
      "Input \u001b[0;32mIn [6]\u001b[0m, in \u001b[0;36m<module>\u001b[0;34m\u001b[0m\n\u001b[1;32m      1\u001b[0m l \u001b[38;5;241m=\u001b[39m [\u001b[38;5;241m1\u001b[39m, \u001b[38;5;241m2\u001b[39m, \u001b[38;5;241m3\u001b[39m, \u001b[38;5;241m4\u001b[39m]\n\u001b[0;32m----> 2\u001b[0m \u001b[43ml\u001b[49m\u001b[43m[\u001b[49m\u001b[38;5;241;43m4\u001b[39;49m\u001b[43m]\u001b[49m\n",
      "\u001b[0;31mIndexError\u001b[0m: list index out of range"
     ]
    }
   ],
   "source": [
    "l = [1, 2, 3, 4]\n",
    "l[4]"
   ]
  },
  {
   "cell_type": "markdown",
   "id": "0be88a60",
   "metadata": {},
   "source": [
    "Python also provides **negative index** which start from the last element\n",
    "with index $-1$ in an reversed ordered."
   ]
  },
  {
   "cell_type": "code",
   "execution_count": null,
   "id": "7cfff738",
   "metadata": {},
   "outputs": [],
   "source": [
    "l = [1, 2, 3, 4]\n",
    "print(l[-1], l[-2], l[-3], l[-4])"
   ]
  },
  {
   "cell_type": "markdown",
   "id": "5fc6b989",
   "metadata": {},
   "source": [
    ":::{tip}\n",
    "You can use `list()` to cast a `range()` object into an list, e.g.,\n",
    "`list(range(5))` returns a `[0, 1, 2, 3, 4]`.\n",
    ":::\n",
    "\n",
    "#### Slice operations\n",
    "\n",
    "To access part of `list`, slice operation provides an elegant and concise\n",
    "way, i.e., it requires three parameters `start`, `end` and `step` to \n",
    "get a sub-list from the `list`. For example,\n",
    "\n",
    "```python\n",
    "list_name[start:end:step]\n",
    "```\n",
    "\n",
    "represents a sub-list contains elements:\n",
    "\n",
    "$$ start, start+step, start+2\\times step, \\ldots, start+k\\times step < end $$\n",
    "\n",
    "where\n",
    "\n",
    "$$ k = \\lfloor \\frac{end-start}{step} \\rfloor $$\n",
    "\n",
    "such that $start+k\\times step < end$.\n",
    "\n",
    "In general, we do not give all three parameters but only two or one of them.\n",
    "By default, Python will treat\n",
    "- `start=0` and `end=-1` when `step>1` or\n",
    "- `start=-1` and `end=0` when `step<1`.\n",
    "\n",
    "Suppose `l=[0,1,2,3,4]`, here are some examples:\n",
    "- `l[1:3] = l[1:3:1] = [0, 1, 2]`\n",
    "- `l[:3] = l[1:3:1] = [0, 1, 2]`\n",
    "- `l[::2] = l[0:-1:2] = [0, 2, 4]`\n",
    "- `l[::-1] = l[-1:0:-1] = [4, 3, 2, 1, 0]`\n",
    "\n",
    "To modify an existing `list`, you need to select \n",
    "one or more elements and assign them with a `list` or value.\n",
    "\n",
    "To change single element:"
   ]
  },
  {
   "cell_type": "code",
   "execution_count": null,
   "id": "82408a73",
   "metadata": {},
   "outputs": [],
   "source": [
    "l = [1, 2, 3, 4]\n",
    "l[1] = -1\n",
    "print(l)"
   ]
  },
  {
   "cell_type": "markdown",
   "id": "75219443",
   "metadata": {},
   "source": [
    "To changes multiple elements:"
   ]
  },
  {
   "cell_type": "code",
   "execution_count": null,
   "id": "5735790d",
   "metadata": {},
   "outputs": [],
   "source": [
    "l = [1, 2, 3, 4]\n",
    "l[:2] = [-1, 0]\n",
    "print(l)"
   ]
  },
  {
   "cell_type": "markdown",
   "id": "bcc697b1",
   "metadata": {},
   "source": [
    ":::{note}\n",
    "Other operations for `list`:\n",
    "- `l.append(x)` will append a new element `x` at the tail of the `l`.\n",
    "- `l.insert(pos, value)` will insert a new element `value` at index of `pos`.\n",
    "- `l1 + l2` will concatenate two lists `l1` and `l2`.\n",
    "- `l * n` will repeat `l` for $n$ times.\n",
    ":::\n",
    "\n",
    "We can also use `for`-loop to travel a `list`:"
   ]
  },
  {
   "cell_type": "code",
   "execution_count": null,
   "id": "be405c71",
   "metadata": {},
   "outputs": [],
   "source": [
    "p = [1, 2, 3, 4, 5]\n",
    "for i in p:\n",
    "    print(i)"
   ]
  },
  {
   "cell_type": "markdown",
   "id": "7d9de92b",
   "metadata": {},
   "source": [
    ":::{seealso}\n",
    "Please refer to [lecture 1](./lec-1.html#for-loop) to recall `for`-loop statement.\n",
    ":::\n",
    "\n",
    "### `tuple`\n",
    "\n",
    "`tuple` is baisically same as `list` except it is contained\n",
    "in `()` and its elements are unchangeable. It shares\n",
    "the majority of features that `list` also have. For example,\n",
    "- hybrid data types: `(1, 'hello')` is a tuple.\n",
    "- slice operation: `t[::-1], t[0:2], t[:1:]` are okay.\n",
    "- repeating: `t * 3` return `tuple` containing `t` for three times.\n",
    "\n",
    "**Packing** and **Unpacking** are common operations in Python when you deal with\n",
    "`list` or `tuple`, i.e., we can explicitly assign elements to multiple variables,\n",
    "vice versa."
   ]
  },
  {
   "cell_type": "code",
   "execution_count": null,
   "id": "111f91c1",
   "metadata": {},
   "outputs": [],
   "source": [
    "a = 1\n",
    "b = 2\n",
    "c = 3\n",
    "t = a, b, c # note here, we do not need brackets ()\n",
    "print(t)\n",
    "c, d, e = t\n",
    "print(c, d)"
   ]
  },
  {
   "cell_type": "markdown",
   "id": "e4482a01",
   "metadata": {},
   "source": [
    ":::{tip}\n",
    "Sometimes, we do not want to assign all elements, please use underscore `_`, i.e.,\n",
    "`_, b = s` is equivalent to assign `b` with `s[1]` and drop `s[0]` for two-element \n",
    "`tuple` or `list` `s`.\n",
    ":::\n",
    "\n",
    "The packing and unpacking are often used to define multi-value functions:"
   ]
  },
  {
   "cell_type": "code",
   "execution_count": null,
   "id": "18e2be23",
   "metadata": {},
   "outputs": [],
   "source": [
    "def mutli_value_func(x):\n",
    "    return x-1, x+1\n",
    "a, b = mutli_value_func(20)\n",
    "print(a, b)"
   ]
  },
  {
   "cell_type": "markdown",
   "id": "f665279f",
   "metadata": {},
   "source": [
    "### `dict`\n",
    "\n",
    "Both `list` and `tuple` can be accessed with its indices. However, in some cases, \n",
    "number-based indices are not convinient to remember and understand. More general\n",
    "data types as indices are employed in `dict` data type. In fact, integers, string \n",
    "or even tuple can be the indices (named `key`) of `dict`.\n",
    "\n",
    "The standard form of a `dict` is \n",
    "```python\n",
    "{key1:value1, key2:value2, ...}\n",
    "```\n",
    "For example, here is a `dict`:"
   ]
  },
  {
   "cell_type": "code",
   "execution_count": null,
   "id": "d9cf506d",
   "metadata": {},
   "outputs": [],
   "source": [
    "d = {1:'apple', 2:'banana', 3:'orange'}"
   ]
  },
  {
   "cell_type": "markdown",
   "id": "82e1c76b",
   "metadata": {},
   "source": [
    ":::{note}\n",
    "Be careful with the type of `key` because some types cannot be \n",
    "a `key` of `dict`, e.g., `list`. Following code would give an error.\n",
    ":::"
   ]
  },
  {
   "cell_type": "code",
   "execution_count": null,
   "id": "9631726a",
   "metadata": {},
   "outputs": [],
   "source": [
    "wrong_dict = {[1,2]:2, [1,2,3]:3}"
   ]
  },
  {
   "cell_type": "markdown",
   "id": "9b70354b",
   "metadata": {},
   "source": [
    "To access element in the `dict`, try"
   ]
  },
  {
   "cell_type": "code",
   "execution_count": null,
   "id": "27d5f357",
   "metadata": {},
   "outputs": [],
   "source": [
    "d[1]"
   ]
  },
  {
   "cell_type": "markdown",
   "id": "47a68f57",
   "metadata": {},
   "source": [
    "where `1` is one of the key of `d`.\n",
    "\n",
    "`dict` provide function `keys()` get all keys:"
   ]
  },
  {
   "cell_type": "code",
   "execution_count": null,
   "id": "4df4c8a6",
   "metadata": {},
   "outputs": [],
   "source": [
    "d.keys()"
   ]
  },
  {
   "cell_type": "markdown",
   "id": "5543a203",
   "metadata": {},
   "source": [
    ":::{note}\n",
    "Please try `values()` and `items()` to learn by yourself.\n",
    ":::"
   ]
  },
  {
   "cell_type": "code",
   "execution_count": null,
   "id": "1c7204fb",
   "metadata": {},
   "outputs": [],
   "source": [
    "print(d.values())\n",
    "print(d.items())"
   ]
  },
  {
   "cell_type": "markdown",
   "id": "689a2dad",
   "metadata": {},
   "source": [
    "To check if an value is in the `dict`, you can use `in` keyword:"
   ]
  },
  {
   "cell_type": "code",
   "execution_count": null,
   "id": "b5c9200d",
   "metadata": {},
   "outputs": [],
   "source": [
    "d = {'apple':1, 'banana':2, 'orange':3}\n",
    "'something' in d"
   ]
  },
  {
   "cell_type": "markdown",
   "id": "c8f57faa",
   "metadata": {},
   "source": [
    "Also, you can travel `dict` by `for`-loop and this will pick all keys \n",
    "in the `dict`:"
   ]
  },
  {
   "cell_type": "code",
   "execution_count": null,
   "id": "0a3e0316",
   "metadata": {},
   "outputs": [],
   "source": [
    "for key in d:\n",
    "    print(key, d[key])"
   ]
  },
  {
   "cell_type": "markdown",
   "id": "e939e838",
   "metadata": {},
   "source": [
    "We can also define a **dict comprehension** like **list comprehension**, \n",
    "and the way"
   ]
  },
  {
   "cell_type": "code",
   "execution_count": null,
   "id": "5a5a922b",
   "metadata": {},
   "outputs": [],
   "source": [
    "dd = {fruit:d[fruit]+1 for fruit in d]}"
   ]
  },
  {
   "cell_type": "markdown",
   "id": "ffb5db28",
   "metadata": {},
   "source": [
    "will define a new `dict`."
   ]
  }
 ],
 "metadata": {
  "jupytext": {
   "cell_metadata_filter": "-all",
   "formats": "md:myst",
   "text_representation": {
    "extension": ".md",
    "format_name": "myst",
    "format_version": 0.13,
    "jupytext_version": "1.11.5"
   }
  },
  "kernelspec": {
   "display_name": "Python 3",
   "language": "python",
   "name": "python3"
  },
  "language_info": {
   "codemirror_mode": {
    "name": "ipython",
    "version": 3
   },
   "file_extension": ".py",
   "mimetype": "text/x-python",
   "name": "python",
   "nbconvert_exporter": "python",
   "pygments_lexer": "ipython3",
   "version": "3.8.11"
  },
  "source_map": [
   15,
   47,
   50,
   57,
   59,
   70,
   73,
   77,
   80,
   86,
   89,
   102,
   105,
   110,
   113,
   156,
   160,
   163,
   167,
   178,
   182,
   200,
   208,
   218,
   223,
   237,
   239,
   246,
   248,
   251,
   253,
   257,
   259,
   264,
   267,
   270,
   273,
   277,
   280,
   284,
   286
  ]
 },
 "nbformat": 4,
 "nbformat_minor": 5
}