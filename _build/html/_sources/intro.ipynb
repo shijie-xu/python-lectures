{
 "cells": [
  {
   "cell_type": "markdown",
   "id": "32c3ea60",
   "metadata": {},
   "source": [
    "# Welcome to Python World!\n",
    "\n",
    "This is a series lectures to give beginners a feel for how python programming is proceed.\n",
    "\n",
    "## How to use the lectures\n",
    "\n",
    "## Roadmap to the lectures\n",
    "\n",
    "```{tableofcontents}\n",
    "```"
   ]
  }
 ],
 "metadata": {
  "jupytext": {
   "cell_metadata_filter": "-all",
   "formats": "md:myst",
   "text_representation": {
    "extension": ".md",
    "format_name": "myst",
    "format_version": 0.13,
    "jupytext_version": "1.11.5"
   }
  },
  "kernelspec": {
   "display_name": "Python 3",
   "language": "python",
   "name": "python3"
  },
  "language_info": {
   "codemirror_mode": {
    "name": "ipython",
    "version": 3
   },
   "file_extension": ".py",
   "mimetype": "text/x-python",
   "name": "python",
   "nbconvert_exporter": "python",
   "pygments_lexer": "ipython3",
   "version": "3.8.11"
  },
  "source_map": [
   15
  ]
 },
 "nbformat": 4,
 "nbformat_minor": 5
}