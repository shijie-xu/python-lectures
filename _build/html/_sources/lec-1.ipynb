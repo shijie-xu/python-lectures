{
 "cells": [
  {
   "cell_type": "markdown",
   "id": "95b9d8f3",
   "metadata": {},
   "source": [
    "# Lecture 1: Python Basics\n",
    "\n",
    "`Jupyter notebook` is a tools to make your programming in an interactive way, \n",
    "i.e., a cell-based environment where you can run your program in it one by one.\n",
    "Compared to the original Python shell, it is more convinient to write, modify\n",
    "and organize your code. In the remaining part of the lecture, I will \n",
    "refer `Python` as `Jupter notebook` if it does not make confuse. So let's go with it.\n",
    "\n",
    ":::{note}\n",
    "You do not need to install `Jupyter notebook` because we have installed \n",
    "`Anaconda` in the previous lecture and the latter one contains the former.\n",
    ":::\n",
    "\n",
    "Here is a simple illustration of `Jupyter notebook`'s user interface.\n",
    "As you can see, it is consise and easy to understand.\n",
    "\n",
    "```{figure} ./images/blank-notebook-ui.png\n",
    "---\n",
    "height: 200px\n",
    "name: ui\n",
    "---\n",
    "**Notebook name**: You can change the notebook name here as you want. \n",
    "**Code cell**: A code cell is where you can write Python code. Once you have \n",
    "finished the code, press {guiLabel}`Shift`+{guiLabel}`Eneter` to run it.\n",
    "```\n",
    "\n",
    "## Using Python as a calculator\n",
    "It is good to treat Python as a calculator when use it for the first time.\n",
    "Try to type any equations in following box and run it!"
   ]
  },
  {
   "cell_type": "code",
   "execution_count": 1,
   "id": "60f0527e",
   "metadata": {},
   "outputs": [
    {
     "data": {
      "text/plain": [
       "6"
      ]
     },
     "execution_count": 1,
     "metadata": {},
     "output_type": "execute_result"
    }
   ],
   "source": [
    "1+2+3"
   ]
  },
  {
   "cell_type": "markdown",
   "id": "881d26d3",
   "metadata": {},
   "source": [
    "Some common mathematical operators in Python are\n",
    "- `+`: addition, `-`: subtraction\n",
    "- `*`: represents multiplication $\\times$\n",
    "- `/`: represents division $\\div$\n",
    "- `//`: represents integral division\n",
    "- `%`: represents modulo operation\n",
    "- `**`: exponential\n",
    ":::{note}\n",
    "In mathematics, modulo operation returns the remainder. For example, \n",
    "the results of `7%2` in Python is `1` because the remainder of $7\\div 2$ is $1$. \n",
    ":::"
   ]
  },
  {
   "cell_type": "code",
   "execution_count": 2,
   "id": "1d5dccde",
   "metadata": {},
   "outputs": [
    {
     "data": {
      "text/plain": [
       "(3, -1, 6, 1.6666666666666667, 1, 2, 1024)"
      ]
     },
     "execution_count": 2,
     "metadata": {},
     "output_type": "execute_result"
    }
   ],
   "source": [
    "1+2, 1-2, 2*3, 5/3, 5//3, 5%3, 2**10"
   ]
  },
  {
   "cell_type": "markdown",
   "id": "4e718aa9",
   "metadata": {},
   "source": [
    ":::{hint}\n",
    "What is the difference between `/` and `//`? Try by yourself!\n",
    ":::"
   ]
  },
  {
   "cell_type": "code",
   "execution_count": 3,
   "id": "a4ea5fae",
   "metadata": {},
   "outputs": [
    {
     "data": {
      "text/plain": [
       "(3.5, 3)"
      ]
     },
     "execution_count": 3,
     "metadata": {},
     "output_type": "execute_result"
    }
   ],
   "source": [
    "7/2, 7//2"
   ]
  },
  {
   "cell_type": "markdown",
   "id": "d213823f",
   "metadata": {},
   "source": [
    "**Error Message**\n",
    "When you run some illegal equations, e.g., $1/0$ would lead to an error in Python."
   ]
  },
  {
   "cell_type": "code",
   "execution_count": 4,
   "id": "10d678e6",
   "metadata": {},
   "outputs": [
    {
     "ename": "ZeroDivisionError",
     "evalue": "division by zero",
     "output_type": "error",
     "traceback": [
      "\u001b[0;31m---------------------------------------------------------------------------\u001b[0m",
      "\u001b[0;31mZeroDivisionError\u001b[0m                         Traceback (most recent call last)",
      "Input \u001b[0;32mIn [4]\u001b[0m, in \u001b[0;36m<module>\u001b[0;34m\u001b[0m\n\u001b[0;32m----> 1\u001b[0m \u001b[38;5;241;43m1\u001b[39;49m\u001b[38;5;241;43m/\u001b[39;49m\u001b[38;5;241;43m0\u001b[39;49m\n",
      "\u001b[0;31mZeroDivisionError\u001b[0m: division by zero"
     ]
    }
   ],
   "source": [
    "1/0"
   ]
  },
  {
   "cell_type": "markdown",
   "id": "83beec7c",
   "metadata": {},
   "source": [
    "Once you meet the message like this in your Python outputs, it means there can be\n",
    "something wrong with your code, and you'd better to check it again. For debugging,\n",
    "just copy the error message line and Google it!\n",
    "\n",
    "```{figure} ./images/error.png\n",
    "---\n",
    "height: 400px\n",
    "---\n",
    "[StackOverflow](https://stackoverflow.com/questions/29836964/error-python-zerodivisionerror-division-by-zero) \n",
    "is a good place to find the solution to your issues.\n",
    "```\n",
    "\n",
    "## Variable\n",
    "Variable is something whose value can be changed. In Python, we use the combination of\n",
    "characters, digits, and underline(\\_) as variable name, except digits cannot occur in the \n",
    "beginning of the name.\n",
    "\n",
    ":::{note}\n",
    "- `abc, ab2, _a, _2` are all okay as a variable name.\n",
    "- `5G, @qq, ac.jp` are not variable names.\n",
    ":::\n",
    "\n",
    "In order to use a variable, you need to give it a value:"
   ]
  },
  {
   "cell_type": "code",
   "execution_count": null,
   "id": "878fef26",
   "metadata": {},
   "outputs": [],
   "source": [
    "a = 2"
   ]
  },
  {
   "cell_type": "markdown",
   "id": "5739431d",
   "metadata": {},
   "source": [
    "If you try to use a variable without value, Python will complain with an error:"
   ]
  },
  {
   "cell_type": "code",
   "execution_count": null,
   "id": "7b8968bc",
   "metadata": {},
   "outputs": [],
   "source": [
    "b"
   ]
  },
  {
   "cell_type": "markdown",
   "id": "de60e978",
   "metadata": {},
   "source": [
    "Some names are reserved by Python, so you cannot use them as variable name.\n",
    "These names are called **keywords** and listed as below\n",
    "```\n",
    "False True None and as assert break class continue\n",
    "def del elif else except finally for from global if \n",
    "import in is lambda nonlocal not or pass raise return\n",
    "try while with yield\n",
    "```\n",
    "\n",
    ":::{note}\n",
    "Some modern editors such as `Jupter notebook` provide colorful theme and highlight keywords,\n",
    "variable, etc. in your code, but do not rely on it too much. Check by your eyes!\n",
    ":::\n",
    "\n",
    "### Type: `int` and `float`\n",
    "Each value in Python has its type, e.g., `int` represets an integer\n",
    "and `float` represets a float number, which is similar to real number\n",
    "in mathematics.\n",
    "\n",
    "Basically, one value is automatically assigned with a specific type and\n",
    "you can use `type()` to look up its type."
   ]
  },
  {
   "cell_type": "code",
   "execution_count": null,
   "id": "fec12fa4",
   "metadata": {},
   "outputs": [],
   "source": [
    "type(1), type(-2), type(1.0)"
   ]
  },
  {
   "cell_type": "markdown",
   "id": "35e1445d",
   "metadata": {},
   "source": [
    "There can be some abbrevations for `float` number. For example, if there\n",
    "is only one zero before/after the point, we can omit it."
   ]
  },
  {
   "cell_type": "code",
   "execution_count": null,
   "id": "c6e586a6",
   "metadata": {},
   "outputs": [],
   "source": [
    ".01, 1."
   ]
  },
  {
   "cell_type": "markdown",
   "id": "3db69ea1",
   "metadata": {},
   "source": [
    "**Scientific notation** is a common numbering system for large numbers,\n",
    "and you can also use it in Python.\n",
    "\n",
    "`[a]e[b]` is the standard form where `[a]` and `[b]` are integers and\n",
    "this is equivalent to a `float` number $a\\times 10^b$."
   ]
  },
  {
   "cell_type": "code",
   "execution_count": null,
   "id": "d40dfc8c",
   "metadata": {},
   "outputs": [],
   "source": [
    "type(1e-2)"
   ]
  },
  {
   "cell_type": "markdown",
   "id": "d93d36bd",
   "metadata": {},
   "source": [
    ":::{note}\n",
    "You can trust `int` because they are always accurate, while `float` are\n",
    "not so much reliable because they are stored in computers in different\n",
    "ways from `int`. In fact, `float` number will be formed into $a\\times 2^b$\n",
    "where $a,b$ are integers. Following is a simple example to show you\n",
    "how computers deal with numbers in a way different from mathematics.\n",
    ":::"
   ]
  },
  {
   "cell_type": "code",
   "execution_count": null,
   "id": "4cac5ee0",
   "metadata": {},
   "outputs": [],
   "source": [
    "a=1.1\n",
    "b=2.2\n",
    "a+b"
   ]
  },
  {
   "cell_type": "markdown",
   "id": "39e6dfe9",
   "metadata": {},
   "source": [
    "### Type: `string`\n",
    "A `string` is some words quoted with quotation marks `'` or `\"`."
   ]
  },
  {
   "cell_type": "code",
   "execution_count": null,
   "id": "86dc5c83",
   "metadata": {},
   "outputs": [],
   "source": [
    "s = \"hello world.\"\n",
    "s"
   ]
  },
  {
   "cell_type": "markdown",
   "id": "00cbfe4c",
   "metadata": {},
   "source": [
    "When the `string` contain quotation mark itself, try swith different\n",
    "ones, e.g.,"
   ]
  },
  {
   "cell_type": "code",
   "execution_count": null,
   "id": "83f4424f",
   "metadata": {},
   "outputs": [],
   "source": [
    "s = '\"python is good\", he said'\n",
    "s"
   ]
  },
  {
   "cell_type": "markdown",
   "id": "b966b113",
   "metadata": {},
   "source": [
    "or use escaped character `\\\"` to replace `\"`:"
   ]
  },
  {
   "cell_type": "code",
   "execution_count": null,
   "id": "41268387",
   "metadata": {},
   "outputs": [],
   "source": [
    "s = \"\\\"python is good\\\", he said\"\n",
    "s"
   ]
  },
  {
   "cell_type": "markdown",
   "id": "fdc282b2",
   "metadata": {},
   "source": [
    "For multiple-line `string`, use triple quoations like"
   ]
  },
  {
   "cell_type": "code",
   "execution_count": null,
   "id": "563f427a",
   "metadata": {},
   "outputs": [],
   "source": [
    "\"\"\"\n",
    "this is a multiple-line string\n",
    "this is a multiple-line string\n",
    "this is a multiple-line string\n",
    "\"\"\""
   ]
  },
  {
   "cell_type": "markdown",
   "id": "b60c910a",
   "metadata": {},
   "source": [
    ":::{tip}\n",
    "A line of code begins with sharp symbol `#` is a comment in Python.\n",
    "Python will not process any comment and it is only used to explain your code.\n",
    ":::\n",
    "\n",
    "More interestingly, Python can naturally deal with Unicode symbol such as \n",
    "Chinese characters or Japanese Kana."
   ]
  },
  {
   "cell_type": "code",
   "execution_count": null,
   "id": "5f8bd299",
   "metadata": {},
   "outputs": [],
   "source": [
    "北海道大学 = \"hokudai.ac.jp\"\n",
    "北海道大学"
   ]
  },
  {
   "cell_type": "markdown",
   "id": "c4bff850",
   "metadata": {},
   "source": [
    "**Cast between different types**\n",
    "\n",
    "Python provides `int()` to cast something to an integer:"
   ]
  },
  {
   "cell_type": "code",
   "execution_count": null,
   "id": "304ace39",
   "metadata": {},
   "outputs": [],
   "source": [
    "int(1.5), int('1234')"
   ]
  },
  {
   "cell_type": "markdown",
   "id": "305e7a60",
   "metadata": {},
   "source": [
    "and `float()` to cast something to a `float` number"
   ]
  },
  {
   "cell_type": "code",
   "execution_count": null,
   "id": "0242cf1b",
   "metadata": {},
   "outputs": [],
   "source": [
    "float(1)"
   ]
  },
  {
   "cell_type": "markdown",
   "id": "fade522c",
   "metadata": {},
   "source": [
    "### Boolean type\n",
    "Boolean type has only two values: `True` and `False`.\n",
    "You can directly assign boolean value to a variable, or it can \n",
    "also be produced in boolean expression like"
   ]
  },
  {
   "cell_type": "code",
   "execution_count": null,
   "id": "6b92fd99",
   "metadata": {},
   "outputs": [],
   "source": [
    "type(1==1)"
   ]
  },
  {
   "cell_type": "markdown",
   "id": "729665ee",
   "metadata": {},
   "source": [
    ":::{tip}\n",
    "More boolean expressions:\n",
    "- `==`: compare two numbers\n",
    "- `<=`: less or equal $\\le$\n",
    "- `>=`: greater or equal $\\ge$\n",
    "- `<`: less\n",
    "- `>`: greater\n",
    "- `!=`: not equal\n",
    ":::\n",
    "\n",
    "Python also provdes keyword `not`, which is calculated by \n",
    "`not True = False` and `not False = True`.\n",
    "\n",
    "Try these boolean expressions by yourself!"
   ]
  },
  {
   "cell_type": "code",
   "execution_count": null,
   "id": "a275d047",
   "metadata": {},
   "outputs": [],
   "source": [
    "1<2, 1<=1, 3!=4"
   ]
  },
  {
   "cell_type": "markdown",
   "id": "9da7d162",
   "metadata": {},
   "source": [
    "### `print()` function\n",
    "Here we introduce `print()` which is a useful for basic outputs.\n",
    "It can outputs numbers,"
   ]
  },
  {
   "cell_type": "code",
   "execution_count": null,
   "id": "174c0676",
   "metadata": {},
   "outputs": [],
   "source": [
    "print(1,2,3,4)"
   ]
  },
  {
   "cell_type": "markdown",
   "id": "a2134266",
   "metadata": {},
   "source": [
    "or `string`"
   ]
  },
  {
   "cell_type": "code",
   "execution_count": null,
   "id": "09b3c31b",
   "metadata": {},
   "outputs": [],
   "source": [
    "print(\"hello\", \", \", \"world.\")"
   ]
  },
  {
   "cell_type": "markdown",
   "id": "c1854920",
   "metadata": {},
   "source": [
    "## Statement\n",
    "Statement is something to control the computation in your program.\n",
    "In the previous section, all of our computation is single. However, \n",
    "in practice, we often want to do many computations by Python:\n",
    "```\n",
    "computation 1\n",
    "computation 2\n",
    "computation 3\n",
    "...\n",
    "```\n",
    "Without statements, computation would be tedious and bored, and \n",
    "programming would be impossible. In this section,\n",
    "We will learn three important statements in Python.\n",
    "\n",
    "### Assignment statement\n",
    "Assignment statements in Python is simple, with standard form\n",
    "```\n",
    "var = expression\n",
    "```\n",
    "where `var` is a variable name and `expression` could be numbers, \n",
    "strings, boolean values and more complex calculation."
   ]
  },
  {
   "cell_type": "code",
   "execution_count": null,
   "id": "6c22171a",
   "metadata": {},
   "outputs": [],
   "source": [
    "x = 1+2\n",
    "boolean_var = True\n",
    "text = \"Python is good\""
   ]
  },
  {
   "cell_type": "markdown",
   "id": "0eb12e21",
   "metadata": {},
   "source": [
    ":::{note}\n",
    "More assignment operatoins:\n",
    "- `var += expression` is equivalent to `var = var + expression`\n",
    "- `var -= expression` is equivalent to `var = var - expression`\n",
    "- `var *= expression` is equivalent to `var = var * expression`\n",
    "- `var /= expression` is equivalent to `var = var / expression`\n",
    ":::\n",
    "\n",
    "### Conditional statement\n",
    "\n",
    "```{figure} ./images/cond.png\n",
    "---\n",
    "height: 400px\n",
    "---\n",
    "A conditional statement usually has two branches. In each running, \n",
    "Python will choose only one of them depending on if the condition\n",
    "is `True` or `False`. \n",
    "```\n",
    "\n",
    "In Python, a standard form code corresponding to the above figure is like\n",
    "```python\n",
    "if condition:\n",
    "    some statements\n",
    "else:\n",
    "    some statements\n",
    "```\n",
    "\n",
    "However, sometimes we have only one branch to run, so \n",
    "```python\n",
    "if condition:\n",
    "    some statements\n",
    "```\n",
    "is also okay.\n",
    "\n",
    "Please notice the indentatoin (4 spaces here), otherwise, you code will be wrong.\n",
    "```{figure} ./images/inden.png\n",
    "---\n",
    "height: 100px\n",
    "---\n",
    "The red block represents a 4-space indentation. Please be careful with it.\n",
    "```\n",
    "Python use indentatoin to emphase code in different levels, which would help\n",
    "Python to recognize the code as a conditional statements. If there is no \n",
    "indentation in Python, the following code\n",
    "```python\n",
    "if condition:\n",
    "statement 1\n",
    "statement 2\n",
    "```\n",
    "is confused for Python because it do not know the bound of branch. \n",
    "\n",
    "Fore more branches, we can use keyword `elif` to extend `if-else` form:\n",
    "```python\n",
    "if condition 1:\n",
    "    statement 1\n",
    "elif condition 2:\n",
    "    statement 2:\n",
    "...\n",
    "(more branches)\n",
    "...\n",
    "else:\n",
    "    some statements\n",
    "```\n",
    "\n",
    ":::{note}\n",
    "Please try to write a GPA calculator with Python. The standard is shown as \n",
    "- $4.0$ for score $\\ge 85$;\n",
    "- $3.0$ for $75\\le$ score $<85$;\n",
    "- $2.0$ for $60\\le$ score $<75$;\n",
    "- $1.0$ for score $<60$.\n",
    ":::"
   ]
  },
  {
   "cell_type": "code",
   "execution_count": null,
   "id": "85ca1cf9",
   "metadata": {},
   "outputs": [],
   "source": [
    "score = float(input(\"Input your score, and press 'Enter' key: \"))\n",
    "# write you code here\n",
    "print(\"Your GPA is\", gpa)"
   ]
  },
  {
   "cell_type": "markdown",
   "id": "f3eef59b",
   "metadata": {},
   "source": [
    "### Loop statement\n",
    "Loop is a simple way to deal with tedious work by Python. In a loop,\n",
    "the program would repeatedly do the samething until the loop ends.\n",
    "\n",
    "In Python, there are two types of loop statements: `while`- and `for`-loop.\n",
    "\n",
    "#### While loop\n",
    "The standard form is \n",
    "```python\n",
    "while condition expression:\n",
    "    some statements\n",
    "```\n",
    ":::{important}\n",
    "Please also notice the indentation here.\n",
    ":::\n",
    "\n",
    "Here is a simple example to compute $1+2+3+\\ldots+100$, and by the formula\n",
    "\n",
    "$$ \\sum_{i=1}^n i = \\frac{n(n+1)}{2} $$\n",
    "\n",
    "we know the answer is $\\frac{100\\times(100+1)}{2}=5050$. So let Python check this!"
   ]
  },
  {
   "cell_type": "code",
   "execution_count": null,
   "id": "b349f3a6",
   "metadata": {},
   "outputs": [],
   "source": [
    "i = 1\n",
    "s = 0\n",
    "while i<101:\n",
    "    s += i\n",
    "    i += 1\n",
    "print(s)"
   ]
  },
  {
   "cell_type": "markdown",
   "id": "a3f6db74",
   "metadata": {},
   "source": [
    ":::{important}\n",
    "If your code does not give any responses as you expect, check \n",
    "if there are any errors in the `while`-loop, e.g., can Python\n",
    "ends the loop while reasonable iterations.\n",
    ":::\n",
    "#### For loop\n",
    "Although $while$-loop can help us to do anything we want. \n",
    "For loop is more convinient in some cases. It has a standard form shown as below\n",
    "```python\n",
    "for element in collection:\n",
    "    some statements\n",
    "```\n",
    "Here collection is a special object in Python \n",
    "from which we can pick up its elements one by one. In `for`-loop,\n",
    "Python will pick each element in the order, and run the statements\n",
    "and then pick another element until the loop ends.\n",
    "\n",
    ":::{note}\n",
    "`range(start, end, step)` is such a special object providing a\n",
    "collection of all numbers from `start` to `end` with a interval \n",
    "`step`. More specifically, it contains $k$ numbers:\n",
    "\n",
    "`start, start + step, start + 2*step, ..., start + k*step`\n",
    "\n",
    "where \n",
    "\n",
    "$$ k = \\lfloor \\frac{end-start}{step} \\rfloor $$\n",
    "\n",
    "such that $start+k\\times step < end$.\n",
    ":::\n",
    "\n",
    "Try to fill following code to make it do the same thing to the previous one."
   ]
  },
  {
   "cell_type": "code",
   "execution_count": null,
   "id": "695d76bd",
   "metadata": {},
   "outputs": [],
   "source": [
    "s = 0\n",
    "for i in range(1, 101):\n",
    "    # write code here\n",
    "print(s)"
   ]
  },
  {
   "cell_type": "markdown",
   "id": "651e0978",
   "metadata": {},
   "source": [
    "## Function and Package\n",
    "### Function\n",
    "Function is a code block can be invoked so that you can reuse your\n",
    "code in an elegant way. A standard form is shown as below\n",
    "```python\n",
    "def func_name(param1, param2, ..., param n):\n",
    "    some code\n",
    "    return something\n",
    "```\n",
    "A simple addition function is here:"
   ]
  },
  {
   "cell_type": "code",
   "execution_count": null,
   "id": "e0e869a0",
   "metadata": {},
   "outputs": [],
   "source": [
    "def add(x, y):\n",
    "    return x+y"
   ]
  },
  {
   "cell_type": "markdown",
   "id": "cb34d3b8",
   "metadata": {},
   "source": [
    "A very imporat applications of function is using it recursively. \n",
    "For example, to define factorial function:\n",
    "\n",
    "$$ n! = n\\times (n-1)\\times(n-2)\\ldots\\times 2\\times 1, 0!=1 $$\n",
    "\n",
    "we notice that it has a recursive definition, i.e., \n",
    "\n",
    "$$ n! = n\\times (n-1)!, 0!=1$$\n",
    "\n",
    "So we can write the code in a few lines:"
   ]
  },
  {
   "cell_type": "code",
   "execution_count": null,
   "id": "b15083d3",
   "metadata": {},
   "outputs": [],
   "source": [
    "def factorial(n):\n",
    "    if n==0:\n",
    "        return 1\n",
    "    else:\n",
    "        return n*factorial(n-1)\n",
    "factorial(69)"
   ]
  },
  {
   "cell_type": "markdown",
   "id": "08af92fd",
   "metadata": {},
   "source": [
    ":::{note}\n",
    "Be careful with recursive definition, it often sucks.\n",
    ":::\n",
    "\n",
    "**Lambda expression** (also refered as lambda function, anonymous function)\n",
    "is a function that defined without function name. In order to make code\n",
    "simple and clean, Python provides lambda expression in a easy way:\n",
    "```python\n",
    "lambda param1, param2, ..., param n : func_body\n",
    "```\n",
    "where `func_body` must be a expression whose value will be return.\n",
    "\n",
    "For example, you can define average function in just one line of code:"
   ]
  },
  {
   "cell_type": "code",
   "execution_count": null,
   "id": "3939ce03",
   "metadata": {},
   "outputs": [],
   "source": [
    "avg = lambda a, b : (a+b)/2\n",
    "print(avg(3, 4))"
   ]
  },
  {
   "cell_type": "markdown",
   "id": "0b8f35ec",
   "metadata": {},
   "source": [
    ":::{tip}\n",
    "The key point to understand lambda expression is to treat function as\n",
    "a sort of variable. In this way, we can define \"the function of function\", \n",
    "e.g. the integral calculation. \n",
    ":::\n",
    "\n",
    "The definte integrals can be computed approximately as following formula:\n",
    "\n",
    "$$ \\int_a^b f(x) dx \\sim \\frac{b-a}{N}\\sum_{i=1}^N f(a+\\frac{i(b-a)}{N}) $$\n",
    "\n",
    "So, we try to define this in Python:"
   ]
  },
  {
   "cell_type": "code",
   "execution_count": null,
   "id": "01a25a3b",
   "metadata": {},
   "outputs": [],
   "source": [
    "def integrate(f, a, b):\n",
    "    N = 10000\n",
    "    s = 0\n",
    "    for i in range(N):\n",
    "         s += f(a+i*(b-a)/N)\n",
    "    return s*(b-a)/N\n",
    "integrate(lambda x:x**2, 0, 1)"
   ]
  },
  {
   "cell_type": "markdown",
   "id": "9f093039",
   "metadata": {},
   "source": [
    "The above code gives the estimated value of $\\int_0^1 x^2=\\frac{1}{3}$.\n",
    "\n",
    "In practice, the majority of work in programming is to invoke the functions\n",
    "in some places. These functions could be very complex and have a long list\n",
    "of parameters so that you have no time to understand them all. Python has \n",
    "a feature named **default parameters** to figure out this problem, i.e., leave\n",
    "some parameters with default values when it was defined by the author. \n",
    "Therefore, you can only focus on the remaining parameters."
   ]
  },
  {
   "cell_type": "code",
   "execution_count": null,
   "id": "06d784d1",
   "metadata": {},
   "outputs": [],
   "source": [
    "def add(x, y=1):\n",
    "    return x+y\n",
    "print(add(1))\n",
    "print(add(1, 2))"
   ]
  },
  {
   "cell_type": "markdown",
   "id": "480d4547",
   "metadata": {},
   "source": [
    "The above `add()` function requires two parameters, however, parameter `y` is set\n",
    "with default value $1$ so you can ignore it. Both `add(1)` or `add(1,2)` are\n",
    "correct.\n",
    "\n",
    "### Package\n",
    "In modern programming, reusing the other people's code is very important\n",
    "and that is also why Python is so successful because it has one of the \n",
    "most powerful package management and plentiful package resources.\n",
    "\n",
    "Before using a package, you need to install it. Some popular packages may\n",
    "be already installed by Anaconda. If you want to install a new package,\n",
    "e.g., `numPy`, try following\n",
    "command in your `Jupyter notebook`:"
   ]
  },
  {
   "cell_type": "code",
   "execution_count": null,
   "id": "69d6c457",
   "metadata": {},
   "outputs": [],
   "source": [
    "!pip install numpy"
   ]
  },
  {
   "cell_type": "markdown",
   "id": "7fc04811",
   "metadata": {},
   "source": [
    ":::{note}\n",
    "The letter case of package name does not matter here.\n",
    ":::\n",
    "\n",
    "As you can see, Python will output several lines of message during installing.\n",
    "\n",
    "Once the package is installed, you can `import` it before using. Also, you can \n",
    "give a short name for it, or just import specific functions from package."
   ]
  },
  {
   "cell_type": "code",
   "execution_count": null,
   "id": "9c91767a",
   "metadata": {},
   "outputs": [],
   "source": [
    "import random\n",
    "import numpy as np\n",
    "from math import pi, sin, cos"
   ]
  },
  {
   "cell_type": "markdown",
   "id": "56600fa7",
   "metadata": {},
   "source": [
    "Once you have imported the package, you can use it like following:"
   ]
  },
  {
   "cell_type": "code",
   "execution_count": null,
   "id": "db10d6d8",
   "metadata": {},
   "outputs": [],
   "source": [
    "print(random.randint(0, 5)) # randint(0, 5) will return a integer in [0, 5)\n",
    "print(cos(pi))"
   ]
  }
 ],
 "metadata": {
  "jupytext": {
   "cell_metadata_filter": "-all",
   "formats": "md:myst",
   "text_representation": {
    "extension": ".md",
    "format_name": "myst",
    "format_version": 0.13,
    "jupytext_version": "1.11.5"
   }
  },
  "kernelspec": {
   "display_name": "Python 3",
   "language": "python",
   "name": "python3"
  },
  "language_info": {
   "codemirror_mode": {
    "name": "ipython",
    "version": 3
   },
   "file_extension": ".py",
   "mimetype": "text/x-python",
   "name": "python",
   "nbconvert_exporter": "python",
   "pygments_lexer": "ipython3",
   "version": "3.8.11"
  },
  "source_map": [
   15,
   46,
   48,
   62,
   64,
   69,
   71,
   75,
   77,
   102,
   104,
   106,
   108,
   131,
   133,
   137,
   139,
   146,
   148,
   158,
   162,
   166,
   169,
   172,
   175,
   177,
   180,
   183,
   189,
   198,
   201,
   206,
   208,
   210,
   212,
   218,
   220,
   236,
   238,
   243,
   245,
   247,
   249,
   273,
   277,
   350,
   354,
   377,
   384,
   418,
   423,
   435,
   438,
   449,
   456,
   470,
   473,
   486,
   494,
   504,
   509,
   523,
   525,
   534,
   538,
   540
  ]
 },
 "nbformat": 4,
 "nbformat_minor": 5
}