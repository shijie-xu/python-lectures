{
 "cells": [
  {
   "cell_type": "markdown",
   "id": "475cf4dd",
   "metadata": {},
   "source": [
    "# Lecture 3: Data Analysis \n",
    "\n",
    ":::{warning}\n",
    "This page is still building. Please be patient for the coming lectures.\n",
    ":::\n",
    "\n",
    "In this lecture, we will learn to build a simple pipeline, by which Python will process your data automatically.\n",
    "\n",
    "The pipeline includes\n",
    "- a module reading data from csv/excel file\n",
    "- a module plotting figure and saving it to disk.\n",
    "- combining them together to a Python script.\n",
    "\n",
    "```{figure} ./images/turtles.jpeg\n",
    "---\n",
    "height: 300px\n",
    "---\n",
    "The \"Four Musketeers\" for Python data analysis: `numPy`, `matplotlib`, \n",
    "`pandas` and `seaborn`.\n",
    "```\n",
    "\n",
    "## Preparation\n",
    "This is an advanced lecture so it is recommended to learn [lecture 1](lec-1.md) and [lecture 2](lec-2.md) if you have no background \n",
    "in Python programming. Additionally, as `Seaborn` is based on `Matplotlib`, it is better if you have a touch \n",
    "with `Matplotlib` which you can learn from lecture 2.\n",
    "\n",
    "Pandas is a data analysis and manipulation tools based on Python. To learn Pandas, \n",
    "the best material is the [official cookbook](https://pandas.pydata.org/pandas-docs/version/1.4.0/pandas.pdf) \n",
    "which can be found at the [official website](https://pandas.pydata.org).\n",
    "However, it is too bored to read so long a technical book, and a better way for beginners is to learn with \n",
    "simple examples.\n",
    "\n",
    "Before start everything, we need to install Pandas as well as some other packages via {guiLabel}`pip`.\n",
    "- numpy: You may already have a basic understanding in lecture 2.\n",
    "- openpyxl: Pandas requires it to read excel file."
   ]
  },
  {
   "cell_type": "code",
   "execution_count": 1,
   "id": "07eb440e",
   "metadata": {},
   "outputs": [],
   "source": [
    "!pip install -q numpy pandas openpyxl "
   ]
  },
  {
   "cell_type": "markdown",
   "id": "560372eb",
   "metadata": {},
   "source": [
    ":::{note} \n",
    "- Here `-q` means quiet installation which can be ignored if you don not understand.\n",
    "- In Jupyter Notebook, command starting with mark `!` is NOT native Python code, \n",
    "but a wrapped shell command, i.e. you can run `pip install numpy` to install `numpy`\n",
    "in your {guiLabel}`Anaconda Prompt Shell`.\n",
    ":::\n",
    "\n",
    "\n",
    "## A simple example"
   ]
  },
  {
   "cell_type": "code",
   "execution_count": 2,
   "id": "2a49bf5a",
   "metadata": {},
   "outputs": [],
   "source": [
    "import pandas as pd, numpy as np"
   ]
  }
 ],
 "metadata": {
  "jupytext": {
   "cell_metadata_filter": "-all",
   "formats": "md:myst",
   "text_representation": {
    "extension": ".md",
    "format_name": "myst",
    "format_version": 0.13,
    "jupytext_version": "1.11.5"
   }
  },
  "kernelspec": {
   "display_name": "Python 3",
   "language": "python",
   "name": "python3"
  },
  "language_info": {
   "codemirror_mode": {
    "name": "ipython",
    "version": 3
   },
   "file_extension": ".py",
   "mimetype": "text/x-python",
   "name": "python",
   "nbconvert_exporter": "python",
   "pygments_lexer": "ipython3",
   "version": "3.8.11"
  },
  "source_map": [
   15,
   53,
   55,
   66
  ]
 },
 "nbformat": 4,
 "nbformat_minor": 5
}